{
 "cells": [
  {
   "cell_type": "code",
   "execution_count": 85,
   "metadata": {},
   "outputs": [],
   "source": [
    "import base\n",
    "import distance\n",
    "import greedy\n",
    "import ioUtils\n",
    "import datetime\n",
    "import pandas as pd\n",
    "import matplotlib.pyplot as plt\n",
    "import seaborn as sns\n",
    "sns.set()"
   ]
  },
  {
   "cell_type": "code",
   "execution_count": 86,
   "metadata": {},
   "outputs": [],
   "source": [
    "def get_stats(data_):\n",
    "    summary_df = data_.groupby('trajID').agg({\n",
    "        'lat': ['min', 'max', 'std'],\n",
    "        'lon': ['min', 'max', 'std'],\n",
    "        's_trajID': ['count']\n",
    "    })\n",
    "    summary_df.columns = summary_df.columns.map('_'.join).str.strip('_')\n",
    "    summary_df['len_lat'] = summary_df['lat_max'] - summary_df['lat_min']\n",
    "    summary_df['len_lon'] = summary_df['lon_max'] - summary_df['lon_min']\n",
    "    summary_df['mean_len'] = (summary_df['len_lat'] + summary_df['len_lon']) / 2\n",
    "    summary_df['mean_std'] = (summary_df['lat_std'] + summary_df['lon_std']) / 2\n",
    "    summary_df = summary_df.sort_values('mean_std').reset_index()\n",
    "    return summary_df"
   ]
  },
  {
   "cell_type": "code",
   "execution_count": 87,
   "metadata": {},
   "outputs": [],
   "source": [
    "def run_algo(txtfile, rmin_, rmax_):\n",
    "    trajs = ioUtils.readTrajsFromTxtFile('data/'+txtfile)\n",
    "    rmin, rmax = rmin_, rmax_\n",
    "    print(\"Computing Frechet distances ...\")\n",
    "    distPairs1 = distance.process(trajs, rmin, rmax)\n",
    "    distPairs2 = {}\n",
    "    for k, v in distPairs1.items():\n",
    "        pth, trID, dist, straj = k[0], k[1].trajID, v, k[1]\n",
    "        if (pth, trID) in distPairs2:\n",
    "            distPairs2[(pth, trID)].append((straj, dist))\n",
    "        else:\n",
    "            distPairs2[(pth, trID)] = [(straj, dist)]\n",
    "    print(\"Computing prerequisite data structures for greedy algorithm ...\")\n",
    "    (strajCov, ptStraj, strajPth, trajCov) = greedy.preprocessGreedy(trajs, distPairs2)\n",
    "    c1, c2, c3 = 1,1,1\n",
    "\n",
    "    print(\"Running greedy algorithm ...\")\n",
    "    retVal = greedy.runGreedy(trajs, distPairs2, strajCov, ptStraj, strajPth, trajCov, c1, c2, c3)\n",
    "    for k,v in retVal[0].items():\n",
    "        print(\"-\"*60)\n",
    "        print(k)\n",
    "        #print(type(v))\n",
    "        for x in v:\n",
    "            print(x)\n",
    "            print(x.bounds)\n",
    "    return retVal"
   ]
  },
  {
   "cell_type": "code",
   "execution_count": 88,
   "metadata": {},
   "outputs": [],
   "source": [
    "data = pd.read_csv('data/result.csv')"
   ]
  },
  {
   "cell_type": "code",
   "execution_count": 89,
   "metadata": {},
   "outputs": [],
   "source": [
    "data['BaseDateTime'] = pd.to_datetime(data['BaseDateTime'])"
   ]
  },
  {
   "cell_type": "code",
   "execution_count": 90,
   "metadata": {},
   "outputs": [],
   "source": [
    "data = data.sort_values('BaseDateTime')"
   ]
  },
  {
   "cell_type": "code",
   "execution_count": 91,
   "metadata": {},
   "outputs": [
    {
     "data": {
      "text/html": [
       "<div>\n",
       "<style scoped>\n",
       "    .dataframe tbody tr th:only-of-type {\n",
       "        vertical-align: middle;\n",
       "    }\n",
       "\n",
       "    .dataframe tbody tr th {\n",
       "        vertical-align: top;\n",
       "    }\n",
       "\n",
       "    .dataframe thead th {\n",
       "        text-align: right;\n",
       "    }\n",
       "</style>\n",
       "<table border=\"1\" class=\"dataframe\">\n",
       "  <thead>\n",
       "    <tr style=\"text-align: right;\">\n",
       "      <th></th>\n",
       "      <th>trajId</th>\n",
       "      <th>BaseDateTime</th>\n",
       "      <th>LAT</th>\n",
       "      <th>LON</th>\n",
       "    </tr>\n",
       "  </thead>\n",
       "  <tbody>\n",
       "    <tr>\n",
       "      <th>98</th>\n",
       "      <td>2</td>\n",
       "      <td>2017-11-07 01:40:00</td>\n",
       "      <td>-71.152782</td>\n",
       "      <td>42.310704</td>\n",
       "    </tr>\n",
       "    <tr>\n",
       "      <th>36</th>\n",
       "      <td>1</td>\n",
       "      <td>2017-11-07 01:40:00</td>\n",
       "      <td>-71.204796</td>\n",
       "      <td>42.336088</td>\n",
       "    </tr>\n",
       "    <tr>\n",
       "      <th>37</th>\n",
       "      <td>1</td>\n",
       "      <td>2017-11-07 01:44:00</td>\n",
       "      <td>-71.201878</td>\n",
       "      <td>42.340275</td>\n",
       "    </tr>\n",
       "    <tr>\n",
       "      <th>99</th>\n",
       "      <td>2</td>\n",
       "      <td>2017-11-07 01:44:00</td>\n",
       "      <td>-71.146259</td>\n",
       "      <td>42.315274</td>\n",
       "    </tr>\n",
       "    <tr>\n",
       "      <th>38</th>\n",
       "      <td>1</td>\n",
       "      <td>2017-11-07 01:49:00</td>\n",
       "      <td>-71.198101</td>\n",
       "      <td>42.344843</td>\n",
       "    </tr>\n",
       "  </tbody>\n",
       "</table>\n",
       "</div>"
      ],
      "text/plain": [
       "    trajId        BaseDateTime        LAT        LON\n",
       "98       2 2017-11-07 01:40:00 -71.152782  42.310704\n",
       "36       1 2017-11-07 01:40:00 -71.204796  42.336088\n",
       "37       1 2017-11-07 01:44:00 -71.201878  42.340275\n",
       "99       2 2017-11-07 01:44:00 -71.146259  42.315274\n",
       "38       1 2017-11-07 01:49:00 -71.198101  42.344843"
      ]
     },
     "execution_count": 91,
     "metadata": {},
     "output_type": "execute_result"
    }
   ],
   "source": [
    "data.head()"
   ]
  },
  {
   "cell_type": "code",
   "execution_count": 92,
   "metadata": {},
   "outputs": [
    {
     "data": {
      "text/html": [
       "<div>\n",
       "<style scoped>\n",
       "    .dataframe tbody tr th:only-of-type {\n",
       "        vertical-align: middle;\n",
       "    }\n",
       "\n",
       "    .dataframe tbody tr th {\n",
       "        vertical-align: top;\n",
       "    }\n",
       "\n",
       "    .dataframe thead th {\n",
       "        text-align: right;\n",
       "    }\n",
       "</style>\n",
       "<table border=\"1\" class=\"dataframe\">\n",
       "  <thead>\n",
       "    <tr style=\"text-align: right;\">\n",
       "      <th></th>\n",
       "      <th>trajId</th>\n",
       "      <th>count</th>\n",
       "    </tr>\n",
       "  </thead>\n",
       "  <tbody>\n",
       "    <tr>\n",
       "      <th>1</th>\n",
       "      <td>1</td>\n",
       "      <td>62</td>\n",
       "    </tr>\n",
       "    <tr>\n",
       "      <th>2</th>\n",
       "      <td>2</td>\n",
       "      <td>37</td>\n",
       "    </tr>\n",
       "  </tbody>\n",
       "</table>\n",
       "</div>"
      ],
      "text/plain": [
       "   trajId  count\n",
       "1       1     62\n",
       "2       2     37"
      ]
     },
     "execution_count": 92,
     "metadata": {},
     "output_type": "execute_result"
    }
   ],
   "source": [
    "count_df = data.groupby('trajId').size().reset_index(name='count').sort_values('count', ascending=False)\n",
    "count_df = count_df.loc[count_df['count'].isin(range(37,71))]\n",
    "count_df"
   ]
  },
  {
   "cell_type": "code",
   "execution_count": 93,
   "metadata": {},
   "outputs": [],
   "source": [
    "df = data.loc[data['trajId'].isin(count_df.head(70)['trajId'])]"
   ]
  },
  {
   "cell_type": "code",
   "execution_count": 94,
   "metadata": {},
   "outputs": [
    {
     "name": "stderr",
     "output_type": "stream",
     "text": [
      "C:\\Users\\nikun\\Anaconda3\\lib\\site-packages\\ipykernel_launcher.py:1: SettingWithCopyWarning: \n",
      "A value is trying to be set on a copy of a slice from a DataFrame.\n",
      "Try using .loc[row_indexer,col_indexer] = value instead\n",
      "\n",
      "See the caveats in the documentation: http://pandas.pydata.org/pandas-docs/stable/indexing.html#indexing-view-versus-copy\n",
      "  \"\"\"Entry point for launching an IPython kernel.\n"
     ]
    }
   ],
   "source": [
    "df['trajID'] = df['trajId'].map(dict(zip(df['trajId'].unique(), list(range(0, len(df['trajId'].unique()))))))"
   ]
  },
  {
   "cell_type": "code",
   "execution_count": 95,
   "metadata": {},
   "outputs": [
    {
     "name": "stderr",
     "output_type": "stream",
     "text": [
      "C:\\Users\\nikun\\Anaconda3\\lib\\site-packages\\ipykernel_launcher.py:1: SettingWithCopyWarning: \n",
      "A value is trying to be set on a copy of a slice from a DataFrame.\n",
      "Try using .loc[row_indexer,col_indexer] = value instead\n",
      "\n",
      "See the caveats in the documentation: http://pandas.pydata.org/pandas-docs/stable/indexing.html#indexing-view-versus-copy\n",
      "  \"\"\"Entry point for launching an IPython kernel.\n"
     ]
    }
   ],
   "source": [
    "df['s_trajID'] = 't'+ df['trajID'].apply(str)"
   ]
  },
  {
   "cell_type": "code",
   "execution_count": 96,
   "metadata": {},
   "outputs": [
    {
     "name": "stderr",
     "output_type": "stream",
     "text": [
      "C:\\Users\\nikun\\Anaconda3\\lib\\site-packages\\ipykernel_launcher.py:1: SettingWithCopyWarning: \n",
      "A value is trying to be set on a copy of a slice from a DataFrame.\n",
      "Try using .loc[row_indexer,col_indexer] = value instead\n",
      "\n",
      "See the caveats in the documentation: http://pandas.pydata.org/pandas-docs/stable/indexing.html#indexing-view-versus-copy\n",
      "  \"\"\"Entry point for launching an IPython kernel.\n"
     ]
    }
   ],
   "source": [
    "df['BaseDateTime'] = pd.to_datetime(df['BaseDateTime'])"
   ]
  },
  {
   "cell_type": "code",
   "execution_count": 97,
   "metadata": {},
   "outputs": [
    {
     "ename": "AttributeError",
     "evalue": "module 'seaborn' has no attribute 'lineplot'",
     "output_type": "error",
     "traceback": [
      "\u001b[1;31m---------------------------------------------------------------------------\u001b[0m",
      "\u001b[1;31mAttributeError\u001b[0m                            Traceback (most recent call last)",
      "\u001b[1;32m<ipython-input-97-d1d66bd24530>\u001b[0m in \u001b[0;36m<module>\u001b[1;34m()\u001b[0m\n\u001b[0;32m      1\u001b[0m \u001b[0mfig\u001b[0m \u001b[1;33m=\u001b[0m \u001b[0mplt\u001b[0m\u001b[1;33m.\u001b[0m\u001b[0mfigure\u001b[0m\u001b[1;33m(\u001b[0m\u001b[0mfigsize\u001b[0m\u001b[1;33m=\u001b[0m\u001b[1;33m(\u001b[0m\u001b[1;36m15\u001b[0m\u001b[1;33m,\u001b[0m\u001b[1;36m10\u001b[0m\u001b[1;33m)\u001b[0m\u001b[1;33m)\u001b[0m\u001b[1;33m\u001b[0m\u001b[0m\n\u001b[1;32m----> 2\u001b[1;33m \u001b[0msns\u001b[0m\u001b[1;33m.\u001b[0m\u001b[0mlineplot\u001b[0m\u001b[1;33m(\u001b[0m\u001b[0mx\u001b[0m\u001b[1;33m=\u001b[0m\u001b[1;34m'LAT'\u001b[0m\u001b[1;33m,\u001b[0m \u001b[0my\u001b[0m\u001b[1;33m=\u001b[0m\u001b[1;34m'LON'\u001b[0m\u001b[1;33m,\u001b[0m \u001b[0mdata\u001b[0m\u001b[1;33m=\u001b[0m\u001b[0mdf\u001b[0m\u001b[1;33m,\u001b[0m \u001b[0mhue\u001b[0m\u001b[1;33m=\u001b[0m\u001b[1;34m's_trajID'\u001b[0m\u001b[1;33m)\u001b[0m\u001b[1;33m\u001b[0m\u001b[0m\n\u001b[0m\u001b[0;32m      3\u001b[0m \u001b[0mplt\u001b[0m\u001b[1;33m.\u001b[0m\u001b[0mshow\u001b[0m\u001b[1;33m(\u001b[0m\u001b[1;33m)\u001b[0m\u001b[1;33m\u001b[0m\u001b[0m\n",
      "\u001b[1;31mAttributeError\u001b[0m: module 'seaborn' has no attribute 'lineplot'"
     ]
    },
    {
     "data": {
      "text/plain": [
       "<Figure size 1080x720 with 0 Axes>"
      ]
     },
     "metadata": {},
     "output_type": "display_data"
    }
   ],
   "source": [
    "fig = plt.figure(figsize=(15,10))\n",
    "sns.lineplot(x='LAT', y='LON', data=df, hue='s_trajID')\n",
    "plt.show()"
   ]
  },
  {
   "cell_type": "code",
   "execution_count": 98,
   "metadata": {},
   "outputs": [],
   "source": [
    "df[['trajID','BaseDateTime', 'LON', 'LAT']].to_csv('data/results.txt',index=False, header=None)"
   ]
  },
  {
   "cell_type": "code",
   "execution_count": 101,
   "metadata": {},
   "outputs": [
    {
     "name": "stdout",
     "output_type": "stream",
     "text": [
      "Computing Frechet distances ...\n",
      "Computing prerequisite data structures for greedy algorithm ...\n",
      "Running greedy algorithm ...\n",
      "num of points is 99\n",
      "num of points is 37\n",
      "------------------------------------------------------------\n",
      "Pathlet TrajID 1 ; bounds (0, 61)\n",
      "Subtraj TrajID 1 ; bounds (0, 61)\n",
      "(0, 61)\n",
      "------------------------------------------------------------\n",
      "Pathlet TrajID 0 ; bounds (0, 36)\n",
      "Subtraj TrajID 0 ; bounds (0, 36)\n",
      "(0, 36)\n"
     ]
    }
   ],
   "source": [
    "retVal = run_algo('results.txt',0.01 , 0.1)"
   ]
  },
  {
   "cell_type": "code",
   "execution_count": 115,
   "metadata": {},
   "outputs": [
    {
     "data": {
      "text/plain": [
       "1"
      ]
     },
     "execution_count": 115,
     "metadata": {},
     "output_type": "execute_result"
    }
   ],
   "source": [
    "len(retVal[0])\n"
   ]
  },
  {
   "cell_type": "code",
   "execution_count": 76,
   "metadata": {},
   "outputs": [
    {
     "data": {
      "text/plain": [
       "9"
      ]
     },
     "execution_count": 76,
     "metadata": {},
     "output_type": "execute_result"
    }
   ],
   "source": [
    "len(retVal[2])"
   ]
  },
  {
   "cell_type": "code",
   "execution_count": 17,
   "metadata": {},
   "outputs": [],
   "source": [
    "data = df[['trajID','BaseDateTime', 'LON', 'LAT']].reset_index(drop=True)\n",
    "data['c'] = 0"
   ]
  },
  {
   "cell_type": "code",
   "execution_count": 18,
   "metadata": {},
   "outputs": [],
   "source": [
    "data_dict = {}\n",
    "for x in data['trajID'].unique():\n",
    "    data_dict[x] = data.loc[data['trajID'] == x].reset_index(drop=True)"
   ]
  },
  {
   "cell_type": "code",
   "execution_count": 19,
   "metadata": {},
   "outputs": [
    {
     "name": "stdout",
     "output_type": "stream",
     "text": [
      "------------------------------------------------------------\n",
      "Pathlet TrajID 41 ; bounds (0, 34)\n",
      "Subtraj TrajID 41 ; bounds (0, 34)\n",
      "(0, 34)\n",
      "Subtraj TrajID 16 ; bounds (0, 44)\n",
      "(0, 44)\n",
      "Subtraj TrajID 0 ; bounds (0, 27)\n",
      "(0, 27)\n",
      "Subtraj TrajID 38 ; bounds (0, 36)\n",
      "(0, 36)\n",
      "Subtraj TrajID 3 ; bounds (0, 35)\n",
      "(0, 35)\n",
      "Subtraj TrajID 39 ; bounds (8, 45)\n",
      "(8, 45)\n",
      "Subtraj TrajID 49 ; bounds (4, 29)\n",
      "(4, 29)\n",
      "Subtraj TrajID 52 ; bounds (3, 36)\n",
      "(3, 36)\n",
      "Subtraj TrajID 29 ; bounds (0, 31)\n",
      "(0, 31)\n",
      "Subtraj TrajID 40 ; bounds (0, 29)\n",
      "(0, 29)\n",
      "------------------------------------------------------------\n",
      "Pathlet TrajID 23 ; bounds (0, 44)\n",
      "Subtraj TrajID 23 ; bounds (0, 44)\n",
      "(0, 44)\n",
      "Subtraj TrajID 22 ; bounds (2, 56)\n",
      "(2, 56)\n",
      "Subtraj TrajID 14 ; bounds (0, 47)\n",
      "(0, 47)\n"
     ]
    }
   ],
   "source": [
    "list_put=[]\n",
    "line_ = 1\n",
    "for k,v in retVal[0].items():\n",
    "    print(\"-\"*60)\n",
    "    print(k)\n",
    "    #print(k.trajID)\n",
    "    list_put.append(k.trajID)\n",
    "    #print(type(v))\n",
    "    for x in v:\n",
    "        print(x)\n",
    "        print(x.bounds)\n",
    "        data_dict[x.trajID].loc[x.bounds[0]: x.bounds[1], 'c'] = line_\n",
    "    line_+=1"
   ]
  },
  {
   "cell_type": "code",
   "execution_count": 27,
   "metadata": {},
   "outputs": [],
   "source": [
    "list_put\n",
    "list_ignore = [ 1,  2, 4,  5,  6,  7,  8,  9, 10, 11, 12, 13, 15,\n",
    "       17, 19, 20, 21, 24, 25, 26, 27, 28, 30, 31, 32, 33, 34, 35,\n",
    "       36, 42, 43, 44, 45, 46, 47, 48, 51, 53, 55, 56,\n",
    "       57, 58, 59, 60, 61]"
   ]
  },
  {
   "cell_type": "code",
   "execution_count": 30,
   "metadata": {},
   "outputs": [
    {
     "data": {
      "image/png": "[encoded data removed]",
      "text/plain": [
       "<Figure size 1080x720 with 1 Axes>"
      ]
     },
     "metadata": {},
     "output_type": "display_data"
    }
   ],
   "source": [
    "fig = plt.figure(figsize=(15,10))\n",
    "ax = fig.add_subplot(111)\n",
    "for trajID, traj_df in data_dict.items():\n",
    "    if not trajID in list_ignore:\n",
    "    #print(trajID)\n",
    "    #display(summary_df.loc[trajID])\n",
    "        ax.plot(traj_df['LAT'], traj_df['LON'], color='b', alpha=0.7)\n",
    "    #sns.lineplot(x='LAT', y='LON', data=traj_df, hue='c')\n",
    "    #ax.plot(traj_df['LAT'].loc[traj_df['c'] == 1], traj_df['LON'].loc[traj_df['c'] == 1], color='r', linewidth=1)\n",
    "    #ax.plot(traj_df['LAT'].loc[traj_df['c'] == 2], traj_df['LON'].loc[traj_df['c'] == 2], color='g', linewidth=1)\n",
    "plt.show()"
   ]
  },
  {
   "cell_type": "code",
   "execution_count": 35,
   "metadata": {},
   "outputs": [],
   "source": [
    "data['s_trajID'] = 't' + data['trajID'].apply(str)\n"
   ]
  },
  {
   "cell_type": "code",
   "execution_count": 36,
   "metadata": {},
   "outputs": [],
   "source": [
    "unused_df = pd.DataFrame({\n",
    "    'trajID': [x.trajID for x in retVal[2]],\n",
    "    'lat': [x.lat for x in retVal[2]],\n",
    "    'lon': [x.lon for x in retVal[2]]\n",
    "})"
   ]
  },
  {
   "cell_type": "code",
   "execution_count": 37,
   "metadata": {},
   "outputs": [],
   "source": [
    "unused_data_dict = {}\n",
    "for x in unused_df['trajID'].unique():\n",
    "    unused_data_dict[x] = unused_df.loc[unused_df['trajID'] == x].reset_index(drop=True)"
   ]
  },
  {
   "cell_type": "code",
   "execution_count": 40,
   "metadata": {},
   "outputs": [
    {
     "data": {
      "image/png": "[encoded data removed]",
      "text/plain": [
       "<Figure size 1080x720 with 1 Axes>"
      ]
     },
     "metadata": {},
     "output_type": "display_data"
    }
   ],
   "source": [
    "fig = plt.figure(figsize=(15,10))\n",
    "ax = fig.add_subplot(111)\n",
    "for trajID, traj_df in data_dict.items():\n",
    "    if not trajID in list_ignore:\n",
    "        if trajID in list_put:\n",
    "        #print(trajID)\n",
    "        #display(summary_df.loc[trajID])\n",
    "            ax.plot(traj_df['LAT'], traj_df['LON'], color='b', alpha=0.3)\n",
    "        #sns.lineplot(x='LAT', y='LON', data=traj_df, hue='c')\n",
    "            ax.plot(traj_df['LAT'].loc[traj_df['c'] == 1], traj_df['LON'].loc[traj_df['c'] == 1], color='r', linewidth=1)\n",
    "            ax.plot(traj_df['LAT'].loc[traj_df['c'] == 2], traj_df['LON'].loc[traj_df['c'] == 2], color='g', linewidth=1)\n",
    "        #if trajID in list_c:\n",
    "            #ax.plot(traj_df['LAT'], traj_df['LON'], color='b', alpha=0.5)\n",
    "for trajID, traj_df in unused_data_dict.items():\n",
    "    ax.plot(traj_df['lon'], traj_df['lat'], color='b', alpha=0.5)\n",
    "plt.show()"
   ]
  },
  {
   "cell_type": "code",
   "execution_count": null,
   "metadata": {},
   "outputs": [],
   "source": []
  }
 ],
 "metadata": {
  "kernelspec": {
   "display_name": "Python 3",
   "language": "python",
   "name": "python3"
  },
  "language_info": {
   "codemirror_mode": {
    "name": "ipython",
    "version": 3
   },
   "file_extension": ".py",
   "mimetype": "text/x-python",
   "name": "python",
   "nbconvert_exporter": "python",
   "pygments_lexer": "ipython3",
   "version": "3.6.5"
  }
 },
 "nbformat": 4,
 "nbformat_minor": 2
}
